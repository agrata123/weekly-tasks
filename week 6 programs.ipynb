{
 "cells": [
  {
   "cell_type": "code",
   "execution_count": 2,
   "metadata": {},
   "outputs": [
    {
     "data": {
      "text/plain": [
       "101"
      ]
     },
     "execution_count": 2,
     "metadata": {},
     "output_type": "execute_result"
    }
   ],
   "source": [
    "#Q1\n",
    "def conversion(num):\n",
    "    converted = ''\n",
    "    \n",
    "    while num != 0:\n",
    "        rel = num / 2\n",
    "        num = num // 2\n",
    "        \n",
    "        if rel == num:\n",
    "            number = '0'\n",
    "        else:\n",
    "            number = '1'\n",
    "            \n",
    "        converted = number + converted\n",
    "        \n",
    "    if converted != '':\n",
    "        return converted\n",
    "    \n",
    "    else:\n",
    "        return '0'\n",
    "    \n",
    "dec = int(input(\"Enter a number in decimal: \"))\n",
    "int(conversion(dec))    "
   ]
  },
  {
   "cell_type": "code",
   "execution_count": 1,
   "metadata": {},
   "outputs": [
    {
     "name": "stdout",
     "output_type": "stream",
     "text": [
      "[1, 5]\n"
     ]
    }
   ],
   "source": [
    "#Q2\n",
    "def integer(n):\n",
    "    factors = []\n",
    "    \n",
    "    for num in range(1, n+1):\n",
    "        if n % num == 0:\n",
    "            factors.append(i)\n",
    "    \n",
    "    return factors\n",
    "\n",
    "num = int(input(\"Enter a number: \"))\n",
    "print(integer(num))"
   ]
  },
  {
   "cell_type": "code",
   "execution_count": 2,
   "metadata": {},
   "outputs": [
    {
     "name": "stdout",
     "output_type": "stream",
     "text": [
      "prime number\n"
     ]
    }
   ],
   "source": [
    "#Q3\n",
    "factors = []\n",
    "def factor_num(n):\n",
    "    for i in range(1,n+1):\n",
    "        if n % i == 0:\n",
    "            factors.append(i)\n",
    "            \n",
    "factor_num(13)\n",
    "\n",
    "if len(factors)==2:\n",
    "    print(\"prime number\")\n",
    "else:\n",
    "    print(\"composite number\")\n",
    "    "
   ]
  },
  {
   "cell_type": "code",
   "execution_count": 2,
   "metadata": {},
   "outputs": [
    {
     "name": "stdout",
     "output_type": "stream",
     "text": [
      "olleh\n"
     ]
    }
   ],
   "source": [
    "#Q4\n",
    "def encryption(msg):\n",
    "    string = \"\"\n",
    "    for i in msg:\n",
    "        if i != \" \":\n",
    "            string = i + string\n",
    "    return string\n",
    "    \n",
    "user_input = input(\"enter message:\")\n",
    "print(encryption(user_input))"
   ]
  },
  {
   "cell_type": "code",
   "execution_count": 5,
   "metadata": {},
   "outputs": [
    {
     "name": "stdout",
     "output_type": "stream",
     "text": [
      "sajaju\\X\\XrququuY\\Y\\vMZMZo`s`s\n"
     ]
    }
   ],
   "source": [
    "#Q6\n",
    "import random\n",
    "def encryption(msg):\n",
    "    result = ''\n",
    "    for i in msg:\n",
    "        ran = random.randint(0,1)\n",
    "        if ran:\n",
    "            if  i != ' ':\n",
    "                result = result + i + (chr(random.randint(70, 95)) + chr(random.randint(70, 95)))*2\n",
    "            else:\n",
    "                result += i\n",
    "        elif not ran == 4:\n",
    "            if  i != ' ':\n",
    "                result = result + i + (chr(random.randint(95, 120)) + chr(random.randint(95, 120)))*2\n",
    "            else:\n",
    "                result += i\n",
    "\n",
    "    return result\n",
    "\n",
    "user_input = input(\"Enter message: \")\n",
    "print(encryption(user_input))\n"
   ]
  },
  {
   "cell_type": "code",
   "execution_count": 15,
   "metadata": {},
   "outputs": [
    {
     "name": "stdout",
     "output_type": "stream",
     "text": [
      "hgfgfegjgjlJFJFlfpfpoYIYI aYOYOgMRMRrPTPTac_c_tmjmja_S_S\n",
      "['hgfgfegjgjlJFJFlfpfpoYIYI', 'aYOYOgMRMRrPTPTac_c_tmjmja_S_S']\n",
      "hello agrata\n"
     ]
    }
   ],
   "source": [
    "#Q7\n",
    "def encryption(msg):\n",
    "    result = ''\n",
    "    for i in msg:\n",
    "        ran = random.randint(0,1)\n",
    "        if ran:\n",
    "            if  i != ' ':\n",
    "                result = result + i + (chr(random.randint(70, 95)) + chr(random.randint(70, 95)))*2\n",
    "            else:\n",
    "                result += i\n",
    "        elif not ran == 4:\n",
    "            if  i != ' ':\n",
    "                result = result + i + (chr(random.randint(95, 120)) + chr(random.randint(95, 120)))*2\n",
    "            else:\n",
    "                result += i\n",
    "\n",
    "    return result\n",
    "message = input(\"Enter message: \")\n",
    "encrypted_result = (encryption(message))\n",
    "print(encrypted_result)\n",
    "\n",
    "#Decryption\n",
    "separate = encrypted_result.split(\" \")\n",
    "print(separate)\n",
    "decrypt1 = separate[0][::5]\n",
    "decrypt2 = separate[1][::5]\n",
    "decrypt3 = [decrypt1,decrypt2]\n",
    "decrypted_result = \" \".join(decrypt3)\n",
    "print(decrypted_result)\n",
    "    \n",
    "    "
   ]
  }
 ],
 "metadata": {
  "kernelspec": {
   "display_name": "base",
   "language": "python",
   "name": "python3"
  },
  "language_info": {
   "codemirror_mode": {
    "name": "ipython",
    "version": 3
   },
   "file_extension": ".py",
   "mimetype": "text/x-python",
   "name": "python",
   "nbconvert_exporter": "python",
   "pygments_lexer": "ipython3",
   "version": "3.9.13"
  }
 },
 "nbformat": 4,
 "nbformat_minor": 2
}
