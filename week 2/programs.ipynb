{
 "cells": [
  {
   "cell_type": "code",
   "execution_count": 2,
   "metadata": {},
   "outputs": [
    {
     "name": "stdout",
     "output_type": "stream",
     "text": [
      "Hello, agrata. Good to meet you!\n"
     ]
    }
   ],
   "source": [
    "#Q1\n",
    "name = input(\"Hello, what is your name? \")\n",
    "print(f\"Hello, {name}. Good to meet you!\")"
   ]
  },
  {
   "cell_type": "code",
   "execution_count": null,
   "metadata": {},
   "outputs": [],
   "source": [
    "#Q2\n",
    "cel = float(input(\"Enter temperature in Celsius: \"))\n",
    "fah = cel * (9/5) + 32\n",
    "print(f\"{cel}C is equal to {fah}F\")"
   ]
  },
  {
   "cell_type": "code",
   "execution_count": 3,
   "metadata": {},
   "outputs": [
    {
     "name": "stdout",
     "output_type": "stream",
     "text": [
      "There will be 6 groups with 0 students left over.\n"
     ]
    }
   ],
   "source": [
    "#Q3\n",
    "students = int(input(\"How many students? \"))\n",
    "size = int(input(\"Required group size? \"))\n",
    "    \n",
    "groups = students // size\n",
    "remaining = students % size\n",
    "    \n",
    "if groups == 1 and remaining != 1:\n",
    "        print(f\"There will be {groups} group with {remaining} students left over.\")\n",
    "        \n",
    "elif groups != 1 and remaining == 1:    \n",
    "        print(f\"There will be {groups} groups with {remaining} student left over.\")\n",
    "\n",
    "elif groups == 1 and remaining == 1:\n",
    "        print(f\"There will be {groups} group with {remaining} student left over.\")\n",
    "\n",
    "else:\n",
    "    print(f\"There will be {groups} groups with {remaining} students left over.\")\n"
   ]
  },
  {
   "cell_type": "code",
   "execution_count": 2,
   "metadata": {},
   "outputs": [
    {
     "name": "stdout",
     "output_type": "stream",
     "text": [
      "Each student will get 4 sweets!\n"
     ]
    }
   ],
   "source": [
    "#Q4\n",
    "pupils = int(input(\"Number of pupils? \"))\n",
    "sweets = int(input(\"How many sweets? \"))\n",
    "\n",
    "pupil_sweet = pupils // sweets\n",
    "leftover_sweets = pupils % sweets\n",
    "\n",
    "print(f\"Each student will get {pupil_sweet} sweets!\")"
   ]
  }
 ],
 "metadata": {
  "kernelspec": {
   "display_name": "base",
   "language": "python",
   "name": "python3"
  },
  "language_info": {
   "codemirror_mode": {
    "name": "ipython",
    "version": 3
   },
   "file_extension": ".py",
   "mimetype": "text/x-python",
   "name": "python",
   "nbconvert_exporter": "python",
   "pygments_lexer": "ipython3",
   "version": "3.9.13"
  }
 },
 "nbformat": 4,
 "nbformat_minor": 2
}
