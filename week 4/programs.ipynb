{
 "cells": [
  {
   "cell_type": "code",
   "execution_count": 2,
   "metadata": {},
   "outputs": [
    {
     "name": "stdout",
     "output_type": "stream",
     "text": [
      "False\n"
     ]
    }
   ],
   "source": [
    "#Q1\n",
    "def see_range(x):\n",
    "    if x in range (0,101):\n",
    "        return True\n",
    "    else:\n",
    "        return False\n",
    "    \n",
    "result = see_range(200)\n",
    "print(result)"
   ]
  },
  {
   "cell_type": "code",
   "execution_count": 7,
   "metadata": {},
   "outputs": [
    {
     "name": "stdout",
     "output_type": "stream",
     "text": [
      "the total uppercase letters = 4\n",
      " thelowercase letters = 3\n"
     ]
    }
   ],
   "source": [
    "#Q2\n",
    "def single_string(a):\n",
    "    lo = 0\n",
    "    up = 0\n",
    "    for i in a:\n",
    "        b = i\n",
    "        if i.upper() == b:\n",
    "            up = up + 1\n",
    "        else:\n",
    "            lo = lo + 1\n",
    "    return up,lo\n",
    "lo,up = single_string(\"AmAziNg\")\n",
    "print(f\"the total uppercase letters = {up}\")\n",
    "print(f\" thelowercase letters = {lo}\")"
   ]
  },
  {
   "cell_type": "code",
   "execution_count": 10,
   "metadata": {},
   "outputs": [
    {
     "name": "stdout",
     "output_type": "stream",
     "text": [
      "Hello,what is your name? Agrata\n",
      "Hello, Agrata. Nice to meet you!\n"
     ]
    }
   ],
   "source": [
    "#Q3 \n",
    "ask_name = input(\"enter your name:\")\n",
    "final_name = ask_name.title()\n",
    "print(f\"Hello,what is your name? {final_name}\\nHello, {final_name}. Nice to meet you!\")"
   ]
  },
  {
   "cell_type": "code",
   "execution_count": 13,
   "metadata": {},
   "outputs": [
    {
     "name": "stdout",
     "output_type": "stream",
     "text": [
      "Agrat\n"
     ]
    }
   ],
   "source": [
    "#Q4\n",
    "def user_name(name):\n",
    "    result = name[0 : -1]\n",
    "    return result\n",
    "\n",
    "user_input = user_name(\"Agrata\")\n",
    "print(user_input)"
   ]
  },
  {
   "cell_type": "code",
   "execution_count": 19,
   "metadata": {},
   "outputs": [
    {
     "name": "stdout",
     "output_type": "stream",
     "text": [
      "37C in fahrenheit is 98.60000000000001\n",
      "99F in celcius is 37.22222222222222\n"
     ]
    }
   ],
   "source": [
    "#Q5\n",
    "def temp_celsius(c):\n",
    "    '''celcius to fahrenheit'''\n",
    "    fahrenheit = c * (9/5)+32\n",
    "    return fahrenheit\n",
    "\n",
    "def temp_fahrenheit(f):\n",
    "    '''fahrenheit to celcius'''\n",
    "    celcius = (f - 32) * (5/9)\n",
    "    return celcius\n",
    "\n",
    "to_fahrenheit = temp_celsius(37)\n",
    "to_celsius = temp_fahrenheit(99)\n",
    "print(f\"37C in fahrenheit is {to_fahrenheit}\")\n",
    "print(f\"99F in celcius is {to_celsius}\")\n"
   ]
  },
  {
   "cell_type": "code",
   "execution_count": 20,
   "metadata": {},
   "outputs": [
    {
     "name": "stdout",
     "output_type": "stream",
     "text": [
      "The temperature in Fahrenheit is 98.60000000000001F\n"
     ]
    }
   ],
   "source": [
    "#Q6\n",
    "user_input = input(\"enter the temperature in celsius:\")\n",
    "fahrenheit = float(user_input[0 : -1]) * (9/5)+32\n",
    "print(f\"The temperature in Fahrenheit is {fahrenheit}F\")\n"
   ]
  },
  {
   "cell_type": "code",
   "execution_count": null,
   "metadata": {},
   "outputs": [],
   "source": [
    "#Q7\n",
    "from statistics import mean\n",
    "fah_list = []\n",
    "for i in range (0,7):\n",
    "    user_centi = input(\"enter the centigrate temperature:\")\n",
    "    fahrenheit = float(user_centi[ : -1]) * (9/5)+32\n",
    "    fah_list.append(fahrenheit)\n",
    "    \n",
    "maximum = max(fah_list)\n",
    "minimum = min(fah_list)\n",
    "mean_temp = mean(fah_list)\n",
    "\n",
    "print(f\"the maximum,minimum and mean temperature is {maximum},{minimum} and {mean_temp}.\")"
   ]
  },
  {
   "cell_type": "code",
   "execution_count": 1,
   "metadata": {},
   "outputs": [
    {
     "name": "stdout",
     "output_type": "stream",
     "text": [
      "the maximum,minimum and mean temperature is 37.4,37.4 and 37.4.\n"
     ]
    }
   ],
   "source": [
    "#Q8\n",
    "from statistics import mean\n",
    "fah_list = []\n",
    "while True:\n",
    "    user_centi = input(\"enter the centigrate temperature:\")\n",
    "    if len(user_centi) == 0:\n",
    "        break\n",
    "    else:\n",
    "        fahrenheit = float(user_centi[ : -1]) * (9/5)+32\n",
    "        fah_list.append(fahrenheit)\n",
    "if len(fah_list) != 0:\n",
    "    maximum = max(fah_list)\n",
    "    minimum = min(fah_list)\n",
    "    mean_temp = mean(fah_list)\n",
    "else:\n",
    "    maximum = 0\n",
    "    minimum = 0\n",
    "    mean_temp = 0\n",
    "\n",
    "print(f\"the maximum,minimum and mean temperature is {maximum},{minimum} and {mean_temp}.\")\n"
   ]
  }
 ],
 "metadata": {
  "kernelspec": {
   "display_name": "base",
   "language": "python",
   "name": "python3"
  },
  "language_info": {
   "codemirror_mode": {
    "name": "ipython",
    "version": 3
   },
   "file_extension": ".py",
   "mimetype": "text/x-python",
   "name": "python",
   "nbconvert_exporter": "python",
   "pygments_lexer": "ipython3",
   "version": "3.9.13"
  }
 },
 "nbformat": 4,
 "nbformat_minor": 2
}
