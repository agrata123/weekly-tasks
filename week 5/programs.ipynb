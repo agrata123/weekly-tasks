{
 "cells": [
  {
   "cell_type": "code",
   "execution_count": 1,
   "metadata": {},
   "outputs": [
    {
     "name": "stdout",
     "output_type": "stream",
     "text": [
      "The system platform is win32\n"
     ]
    }
   ],
   "source": [
    "#Q1\n",
    "import sys\n",
    "\n",
    "path = sys.platform\n",
    "\n",
    "print(f\"The system platform is {path}\")"
   ]
  },
  {
   "cell_type": "code",
   "execution_count": 2,
   "metadata": {},
   "outputs": [
    {
     "name": "stdout",
     "output_type": "stream",
     "text": [
      "There are 1 arguments.\n"
     ]
    }
   ],
   "source": [
    "#Q2\n",
    "import sys\n",
    "\n",
    "args = sys.argv[1:]\n",
    "\n",
    "print(f\"There are {len(args)} arguments.\")"
   ]
  },
  {
   "cell_type": "code",
   "execution_count": null,
   "metadata": {},
   "outputs": [],
   "source": [
    "#Q3\n",
    "import sys\n",
    "\n",
    "small = sys.argv[1:]\n",
    "small.sort()\n",
    "\n",
    "print(f\"The smallest is :{small[0]}\")\n"
   ]
  },
  {
   "cell_type": "code",
   "execution_count": 5,
   "metadata": {},
   "outputs": [
    {
     "name": "stdout",
     "output_type": "stream",
     "text": [
      "Too less arguments\n"
     ]
    }
   ],
   "source": [
    "#Q5\n",
    "from statistics import mean\n",
    "import sys\n",
    "\n",
    "def maxi(num):\n",
    "    return max(num)\n",
    "\n",
    "def mini(num):\n",
    "    return min(num)\n",
    "\n",
    "def means(num):\n",
    "    return mean(num)\n",
    "\n",
    "if len(sys.argv) == 7:\n",
    "    vals = sys.argv[1:7]\n",
    "    vals = [int(x) for x in vals]\n",
    "    print(\"max =\",maxi(vals))\n",
    "    print(\"min =\",mini(vals))\n",
    "    print(\"mean =\",mean(vals))\n",
    "    \n",
    "elif len(sys.argv) == 1:\n",
    "    print(\"Enter at least one argument\")\n",
    "    \n",
    "elif len(sys.argv) > 7:\n",
    "    print(\"Too many arguments\")\n",
    "\n",
    "else:\n",
    "    print(\"Too less arguments\")\n"
   ]
  },
  {
   "cell_type": "code",
   "execution_count": null,
   "metadata": {},
   "outputs": [],
   "source": [
    "#Q6\n",
    "import sys\n",
    "\n",
    "file = sys.argv[1]\n",
    "\n",
    "with open(file, \"rt\") as source:\n",
    "    lines = source.read()\n",
    "    \n",
    "with open(\"backup.txt\", \"w\") as copy:\n",
    "    copy.write(lines)"
   ]
  }
 ],
 "metadata": {
  "kernelspec": {
   "display_name": "base",
   "language": "python",
   "name": "python3"
  },
  "language_info": {
   "codemirror_mode": {
    "name": "ipython",
    "version": 3
   },
   "file_extension": ".py",
   "mimetype": "text/x-python",
   "name": "python",
   "nbconvert_exporter": "python",
   "pygments_lexer": "ipython3",
   "version": "3.9.13"
  }
 },
 "nbformat": 4,
 "nbformat_minor": 2
}
