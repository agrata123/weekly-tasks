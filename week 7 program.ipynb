{
 "cells": [
  {
   "cell_type": "code",
   "execution_count": null,
   "metadata": {},
   "outputs": [],
   "source": [
    "#Q1\n",
    "def sorted(num):\n",
    "    n_list = []\n",
    "    for i in num:\n",
    "        n_list.append(i)\n",
    "    n_list.sort()\n",
    "    \n",
    "    n_list = set(n_list)\n",
    "    \n",
    "    n_list = list(n_list)\n",
    "    \n",
    "    n_list.sort()\n",
    "        \n",
    "    return n_list\n",
    "\n",
    "input_1 = input(\"Enter string: \")\n",
    "input_result = sorted(input_1)\n",
    "print(input_result)"
   ]
  },
  {
   "cell_type": "code",
   "execution_count": null,
   "metadata": {},
   "outputs": [],
   "source": []
  }
 ],
 "metadata": {
  "language_info": {
   "name": "python"
  }
 },
 "nbformat": 4,
 "nbformat_minor": 2
}
