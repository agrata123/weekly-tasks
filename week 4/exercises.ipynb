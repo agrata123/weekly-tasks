{
 "cells": [
  {
   "cell_type": "code",
   "execution_count": null,
   "metadata": {},
   "outputs": [],
   "source": [
    "1.) What must be done before a function that is not built-in to Python can be used in a program?\n",
    "\n",
    "Ans: should be imported from library"
   ]
  },
  {
   "cell_type": "code",
   "execution_count": null,
   "metadata": {},
   "outputs": [],
   "source": [
    "2.) Given the following import statement, how would a call to the sin() function be made? \n",
    "\n",
    "import math \n",
    "\n",
    "Ans: math.sin()"
   ]
  },
  {
   "cell_type": "code",
   "execution_count": null,
   "metadata": {},
   "outputs": [],
   "source": [
    "3.) Given the following import statement, how would a call to the sqrt() function be made? \n",
    "\n",
    "from math import sqrt \n",
    "\n",
    "Ans: sqrt()"
   ]
  },
  {
   "cell_type": "code",
   "execution_count": null,
   "metadata": {},
   "outputs": [],
   "source": [
    "4.) What is the name of the common library that is available with all Python distributions?\n",
    "\n",
    "Ans: python standard library"
   ]
  },
  {
   "cell_type": "code",
   "execution_count": null,
   "metadata": {},
   "outputs": [],
   "source": [
    "5.) What keyword is used in Python to define a new function?\n",
    "\n",
    "Ans: def"
   ]
  },
  {
   "cell_type": "code",
   "execution_count": 2,
   "metadata": {},
   "outputs": [
    {
     "name": "stdout",
     "output_type": "stream",
     "text": [
      "*****\n"
     ]
    }
   ],
   "source": [
    "6.) Write some Python code that defines a function called print_header(msg). This should \n",
    "output the value provided by the ‘msg’ parameter to the screen (prefixed by five asterisk \n",
    "‘*****’) characters.\n",
    "\n",
    "Ans:\n",
    "def print_header(msg):\n",
    "    return msg\n",
    "\n",
    "result = print_header(\"*****\")\n",
    "print(result)\n",
    "    \n",
    " "
   ]
  },
  {
   "cell_type": "code",
   "execution_count": null,
   "metadata": {},
   "outputs": [],
   "source": [
    "7.) In the answer box below give an example of what the docstring may look like for the  \n",
    "print_header(msg) function. \n",
    "\n",
    "def print_header(msg):\n",
    "    '''defining the function'''"
   ]
  },
  {
   "cell_type": "code",
   "execution_count": null,
   "metadata": {},
   "outputs": [],
   "source": [
    "8.) Where within a function definition should a docstring appear? \n",
    "\n",
    "Ans: first statement of the function body."
   ]
  },
  {
   "cell_type": "code",
   "execution_count": null,
   "metadata": {},
   "outputs": [],
   "source": [
    "9.) What statement should appear within a function’s code block to cause a specific value to be \n",
    "passed back to the caller of the function? \n",
    "\n",
    "Ans: return"
   ]
  },
  {
   "cell_type": "code",
   "execution_count": null,
   "metadata": {},
   "outputs": [],
   "source": [
    "10.) Write some Python code that defines a function called find_min(a,b) that returns the \n",
    "smallest of the two given parameter values."
   ]
  },
  {
   "cell_type": "code",
   "execution_count": 3,
   "metadata": {},
   "outputs": [
    {
     "name": "stdout",
     "output_type": "stream",
     "text": [
      "1\n"
     ]
    }
   ],
   "source": [
    "#Ans:\n",
    "def find_min(a,b):\n",
    "    return min(a,b)\n",
    "\n",
    "minimum = find_min(1,2)\n",
    "print(minimum)\n"
   ]
  },
  {
   "cell_type": "code",
   "execution_count": null,
   "metadata": {},
   "outputs": [],
   "source": [
    "11.) Given the following function definition, which of the formal parameters could be described as \n",
    "being a default argument? \n",
    "def shouldContinue(prompt, answer=False): \n",
    "    \n",
    "Ans: answer = False "
   ]
  },
  {
   "cell_type": "code",
   "execution_count": null,
   "metadata": {},
   "outputs": [],
   "source": [
    "12.) Provide two example calls to the above function, one which provides a value for the default \n",
    "argument, and one that does not.\n",
    "\n",
    "Ans: with default argument: shouldCountinue(\"hello\",answer =\"True\")\n",
    "\n",
    "Ans: Without default argument: shouldCountinue(\"hello\") /without default argument/"
   ]
  },
  {
   "cell_type": "code",
   "execution_count": null,
   "metadata": {},
   "outputs": [],
   "source": [
    "13.) State why following function definition would not be allowed. \n",
    "def do_something(prefix=\"Message\", prompt, answer=False): \n",
    "    \n",
    "Ans: ans. keyword arguments should follow positonal arguments.   "
   ]
  },
  {
   "cell_type": "code",
   "execution_count": null,
   "metadata": {},
   "outputs": [],
   "source": [
    "14.) What single character is placed directly before the name of a formal parameter, to indicate \n",
    "that a variable number of actual parameters can be passed when the function is called?\n",
    "\n",
    "Ans: *"
   ]
  },
  {
   "cell_type": "code",
   "execution_count": null,
   "metadata": {},
   "outputs": [],
   "source": [
    "15.) What commonly used built-in function, which displays output on the screen, can take a \n",
    "variable number of arguments?\n",
    "\n",
    "Ans: print()"
   ]
  },
  {
   "cell_type": "code",
   "execution_count": null,
   "metadata": {},
   "outputs": [],
   "source": [
    "16.) Is it valid for a function’s parameter name to be prefixed by two asterisk characters ‘**’ as \n",
    "shown below? \n",
    "def send_output(**details):\n",
    "\n",
    "\n",
    "Ans: yes : called arbitary keyword arguments"
   ]
  },
  {
   "cell_type": "code",
   "execution_count": null,
   "metadata": {},
   "outputs": [],
   "source": [
    "17.) What is the name given to a small ‘anonymous’ function that must be defined using a single \n",
    "expression?\n",
    "\n",
    "Ans: lambda"
   ]
  },
  {
   "cell_type": "code",
   "execution_count": 4,
   "metadata": {},
   "outputs": [
    {
     "name": "stdout",
     "output_type": "stream",
     "text": [
      "8\n"
     ]
    }
   ],
   "source": [
    "18.)Give an example of such a function that calculates the cube of a given number (i.e. the value \n",
    "of the number raised to the power of three) - \n",
    "\n",
    "def cube_num(a):\n",
    "    return a ** 3\n",
    "\n",
    "cube = cube_num(2)\n",
    "print(cube)"
   ]
  },
  {
   "cell_type": "markdown",
   "metadata": {},
   "source": []
  }
 ],
 "metadata": {
  "kernelspec": {
   "display_name": "Python 3",
   "language": "python",
   "name": "python3"
  },
  "language_info": {
   "codemirror_mode": {
    "name": "ipython",
    "version": 3
   },
   "file_extension": ".py",
   "mimetype": "text/x-python",
   "name": "python",
   "nbconvert_exporter": "python",
   "pygments_lexer": "ipython3",
   "version": "3.9.13"
  }
 },
 "nbformat": 4,
 "nbformat_minor": 2
}
