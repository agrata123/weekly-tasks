{
 "cells": [
  {
   "cell_type": "code",
   "execution_count": 6,
   "metadata": {},
   "outputs": [
    {
     "name": "stdout",
     "output_type": "stream",
     "text": [
      "Hello World\n"
     ]
    }
   ],
   "source": [
    "#Q1\n",
    "\n",
    "print(\"Hello World\")"
   ]
  },
  {
   "cell_type": "code",
   "execution_count": 5,
   "metadata": {},
   "outputs": [
    {
     "name": "stdout",
     "output_type": "stream",
     "text": [
      "Hello, Agrata!\n"
     ]
    }
   ],
   "source": [
    "#Q2\n",
    "\n",
    "name = \"Agrata\"\n",
    "print(f\"Hello, {name}!\")"
   ]
  },
  {
   "cell_type": "code",
   "execution_count": 4,
   "metadata": {},
   "outputs": [
    {
     "name": "stdout",
     "output_type": "stream",
     "text": [
      "38.4 in fahrenheit is 101.12\n"
     ]
    }
   ],
   "source": [
    "temp = 38.4\n",
    "fahrenheit = temp * (9/5) + 32\n",
    "print(f\"{temp} in fahrenheit is {fahrenheit}\")\n",
    "\n"
   ]
  },
  {
   "cell_type": "code",
   "execution_count": 3,
   "metadata": {},
   "outputs": [
    {
     "name": "stdout",
     "output_type": "stream",
     "text": [
      "The batting average of  Geoffrey Boycott is 56.83802816901409\n"
     ]
    }
   ],
   "source": [
    "#Q4\n",
    "\n",
    "matches = 609 \n",
    "runs = 48426\n",
    "batted = 1014\n",
    "notout  = 162\n",
    "average = runs / (batted - notout)\n",
    "print(f\"The batting average of  Geoffrey Boycott is {average}\")"
   ]
  },
  {
   "cell_type": "code",
   "execution_count": 2,
   "metadata": {},
   "outputs": [
    {
     "name": "stdout",
     "output_type": "stream",
     "text": [
      "The total number of groups will be 11 with 36 leftover students.\n"
     ]
    }
   ],
   "source": [
    "#Q5\n",
    "\n",
    "size = 24\n",
    "\n",
    "students1 = 113\n",
    "students2 = 175\n",
    "students3 = 12\n",
    "\n",
    "first_group = students1 // size\n",
    "second_group = students2 // size\n",
    "third_group = students3 // size\n",
    "total_groups = first_group + second_group + third_group\n",
    "\n",
    "leftover1 = students1 % size\n",
    "leftover2 = students2 % size\n",
    "leftover3 = students3 % size\n",
    "leftover_total = leftover1 + leftover2 + leftover3\n",
    "\n",
    "print(f\"The total number of groups will be {total_groups} with {leftover_total} leftover students.\")\n"
   ]
  }
 ],
 "metadata": {
  "kernelspec": {
   "display_name": "base",
   "language": "python",
   "name": "python3"
  },
  "language_info": {
   "codemirror_mode": {
    "name": "ipython",
    "version": 3
   },
   "file_extension": ".py",
   "mimetype": "text/x-python",
   "name": "python",
   "nbconvert_exporter": "python",
   "pygments_lexer": "ipython3",
   "version": "3.9.13"
  }
 },
 "nbformat": 4,
 "nbformat_minor": 2
}
