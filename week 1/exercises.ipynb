{
 "cells": [
  {
   "cell_type": "code",
   "execution_count": null,
   "metadata": {},
   "outputs": [],
   "source": [
    "1) What is the name of the programming language that we will be using on this module? What\n",
    "version of the language are we using?\n",
    "\n",
    "Ans: python 3.10.9"
   ]
  },
  {
   "cell_type": "code",
   "execution_count": null,
   "metadata": {},
   "outputs": [],
   "source": [
    "2) A computer program takes some input, performs some processing then…. what?\n",
    "\n",
    "Ans: Gives output"
   ]
  },
  {
   "cell_type": "code",
   "execution_count": null,
   "metadata": {},
   "outputs": [],
   "source": [
    "3) What generation of programming language is machine code?\n",
    "\n",
    "Ans: First generation"
   ]
  },
  {
   "cell_type": "code",
   "execution_count": null,
   "metadata": {},
   "outputs": [],
   "source": [
    "4) Which of the following is known as a second generation programming language?\n",
    "● C++\n",
    "● Java\n",
    "● Assembly\n",
    "● R\n",
    "● Python\n",
    "\n",
    "Ans: Assembly"
   ]
  },
  {
   "cell_type": "code",
   "execution_count": null,
   "metadata": {},
   "outputs": [],
   "source": [
    "5) State one problem associated with writing code in Assembly Language.\n",
    "\n",
    "Ans: Writing code is slower."
   ]
  },
  {
   "cell_type": "code",
   "execution_count": null,
   "metadata": {},
   "outputs": [],
   "source": [
    "6) What generation of programming language is Python?\n",
    "\n",
    "Ans: Third generation"
   ]
  },
  {
   "cell_type": "code",
   "execution_count": null,
   "metadata": {},
   "outputs": [],
   "source": [
    "7) What is the purpose of a compiler?\n",
    "\n",
    "Ans: To translate source code into machine code.\n",
    "\n"
   ]
  },
  {
   "cell_type": "code",
   "execution_count": null,
   "metadata": {},
   "outputs": [],
   "source": [
    "8) The Python interpreter uses an interaction model called REPL. What does this stand for?\n",
    "\n",
    "Ans: Read Evaluation Print Loop"
   ]
  },
  {
   "cell_type": "code",
   "execution_count": null,
   "metadata": {},
   "outputs": [],
   "source": [
    "9) Is it true that Python development always has to take place using interactive-mode within the Python interpreter?\n",
    "\n",
    "Ans: Not true."
   ]
  },
  {
   "cell_type": "code",
   "execution_count": null,
   "metadata": {},
   "outputs": [],
   "source": [
    "10) What does the term IDE stand for?\n",
    "\n",
    "Ans: Integrated Development Environment\n"
   ]
  },
  {
   "cell_type": "code",
   "execution_count": null,
   "metadata": {},
   "outputs": [],
   "source": [
    "11) What is the main reason why programmers use code libraries?\n",
    "\n",
    "Ans: Libraries "
   ]
  },
  {
   "cell_type": "code",
   "execution_count": null,
   "metadata": {},
   "outputs": [],
   "source": [
    "12)The Python language is often used in the field of data-science. What other language\n",
    "specifically supports data-science?\n",
    "\n",
    "Ans: R"
   ]
  },
  {
   "cell_type": "code",
   "execution_count": null,
   "metadata": {},
   "outputs": [],
   "source": [
    "13) An expression within a programming language consists of operands and operators.\n",
    "Given an expression such as: 20 + 10, which part of this is the operator?\n",
    "    \n",
    "Ans: +"
   ]
  },
  {
   "cell_type": "code",
   "execution_count": null,
   "metadata": {},
   "outputs": [],
   "source": [
    "14) And, which part of this is the operand?\n",
    "\n",
    "Ans: 20 and 10"
   ]
  },
  {
   "cell_type": "code",
   "execution_count": null,
   "metadata": {},
   "outputs": [],
   "source": [
    "15) Within Python, what calculation is performed by the ‘*’ operator?\n",
    "\n",
    "Ans: Multiplication"
   ]
  },
  {
   "cell_type": "code",
   "execution_count": null,
   "metadata": {},
   "outputs": [],
   "source": [
    "16) Within Python, what calculation is performed by the ‘/’ operator?\n",
    "\n",
    "Ans: Division"
   ]
  },
  {
   "cell_type": "code",
   "execution_count": null,
   "metadata": {},
   "outputs": [],
   "source": [
    "17) Within Python, what calculation is performed by the ‘**’ operator?\n",
    "\n",
    "Ans: exponentiation"
   ]
  },
  {
   "cell_type": "code",
   "execution_count": null,
   "metadata": {},
   "outputs": [],
   "source": [
    "18) Using the information about expression evaluation provided in the related tutorial, evaluate\n",
    "each of the following expressions in your head and type the result in the answer boxes\n",
    "below. Remember that an operator precedence is applied, but can be overridden by the use\n",
    "of parentheses.\n",
    "\n",
    "a) 100 + 200 - 50\n",
    "Ans: 250\n",
    "    \n",
    "b) 10 + 20 * 10\n",
    "Ans: 210\n",
    "    \n",
    "c) 20 % 3\n",
    "Ans: 2\n",
    "    \n",
    "d) 20 / (2 * 5)\n",
    "Ans: 2\n",
    "    \n",
    "e) 20 / 2 * 5  \n",
    "Ans: 50\n",
    "    \n",
    "f) 10 * 2 + 1 * 3\n",
    "Ans: 23\n",
    "    \n",
    "g) 5 + 10 ** 2\n",
    "Ans: 105\n",
    "    \n",
    "h)  (10 + 2 / 2) + ((10 * 2) ** 2)\n",
    "Ans: 211\n",
    "        "
   ]
  },
  {
   "cell_type": "code",
   "execution_count": null,
   "metadata": {},
   "outputs": [],
   "source": [
    "19) Use the Python interpreter to input and then execute a simple Python expression that adds\n",
    "the three numbers 100.6, 200.72 and 213.3, then write the result in the answer box below.\n",
    "\n",
    "Ans: 514.62"
   ]
  },
  {
   "cell_type": "code",
   "execution_count": null,
   "metadata": {},
   "outputs": [],
   "source": [
    "20) Use the Python interpreter to input and then execute a simple Python expression that\n",
    "multiplies the three numbers 20.25, 100 and 23.9, then write the result in the answer box\n",
    "\n",
    "Ans: 144.15"
   ]
  },
  {
   "cell_type": "code",
   "execution_count": null,
   "metadata": {},
   "outputs": [],
   "source": [
    "21) Use the Python interpreter to input and then execute a simple Python expression that divides\n",
    "the number 10 by 0, then write the result in the answer box below.\n",
    "\n",
    "Ans: ZeroDivisionError"
   ]
  },
  {
   "cell_type": "code",
   "execution_count": null,
   "metadata": {},
   "outputs": [],
   "source": [
    "22) What type of error is typically easier to identify? A syntax error? Or a logical error?\n",
    "\n",
    "Ans: logical error"
   ]
  },
  {
   "cell_type": "code",
   "execution_count": null,
   "metadata": {},
   "outputs": [],
   "source": [
    "23) What type of message is used by the Python interpreter to report run-time errors?\n",
    "\n",
    "Ans: Traceback message"
   ]
  },
  {
   "cell_type": "code",
   "execution_count": null,
   "metadata": {},
   "outputs": [],
   "source": [
    "24) What command can be used to exit the Python interpreter?\n",
    "\n",
    "Ans: exit()"
   ]
  }
 ],
 "metadata": {
  "kernelspec": {
   "display_name": "base",
   "language": "python",
   "name": "python3"
  },
  "language_info": {
   "name": "python",
   "version": "3.9.13"
  }
 },
 "nbformat": 4,
 "nbformat_minor": 2
}
