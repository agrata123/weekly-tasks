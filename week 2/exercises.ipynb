{
 "cells": [
  {
   "cell_type": "code",
   "execution_count": null,
   "metadata": {},
   "outputs": [],
   "source": [
    "1) Which is the purpose of a variable within Python?\n",
    " \n",
    "Ans: The main purpose of varianle is to store a value."
   ]
  },
  {
   "cell_type": "code",
   "execution_count": null,
   "metadata": {},
   "outputs": [],
   "source": [
    "2) Write a simple Python statement that creates and assigns a value of 3.142 to a variable \n",
    "called ‘pi’\n",
    "\n",
    "Ans: pi = 3.142"
   ]
  },
  {
   "cell_type": "code",
   "execution_count": null,
   "metadata": {},
   "outputs": [],
   "source": [
    "3) Which of the following is NOT a valid name for a variable within Python?\n",
    "total\n",
    "result\n",
    "question?\n",
    "name_1\n",
    "\n",
    "Ans: question?"
   ]
  },
  {
   "cell_type": "code",
   "execution_count": null,
   "metadata": {},
   "outputs": [],
   "source": [
    "4) Following the execution of the code below, what will be stored in the variable 'age'?\n",
    "age = 10 + 20\n",
    "age = age + 5\n",
    "\n",
    "Ans: 35"
   ]
  },
  {
   "cell_type": "code",
   "execution_count": null,
   "metadata": {},
   "outputs": [],
   "source": [
    "5) In the answer box below write the exact output that would be displayed if the following \n",
    "statement was executed (assuming age has been created as in the previous question):\n",
    "print(\"The age value is\",age)\n",
    "\n",
    "Ans: The age value is 35\n",
    "    "
   ]
  },
  {
   "cell_type": "code",
   "execution_count": null,
   "metadata": {},
   "outputs": [],
   "source": [
    "6) Which of the following is an example of an Augmented Assignment in Python?\n",
    "total = 20\n",
    "total = total + 5\n",
    "total *= 100\n",
    "total = max\n",
    "\n",
    "Ans: total *= 100"
   ]
  },
  {
   "cell_type": "code",
   "execution_count": null,
   "metadata": {},
   "outputs": [],
   "source": [
    "7) Which of the following is an example of an integer type variable?\n",
    "result = \"xyz\"\n",
    "result = 20\n",
    "result = 20.5\n",
    "result = False\n",
    "\n",
    "Ans: result = 20"
   ]
  },
  {
   "cell_type": "code",
   "execution_count": null,
   "metadata": {},
   "outputs": [],
   "source": [
    "8) What are the only two legal values of a boolean type variable?\n",
    "\n",
    "Ans: True and False"
   ]
  },
  {
   "cell_type": "code",
   "execution_count": null,
   "metadata": {},
   "outputs": [],
   "source": [
    "9) Following the execution of the code below, what will be the data-type of the variable \n",
    "'average'?\n",
    "average = total / count\n",
    "\n",
    "Ans: float"
   ]
  },
  {
   "cell_type": "code",
   "execution_count": null,
   "metadata": {},
   "outputs": [],
   "source": [
    "10) Following the execution of the code below, what will be the data-type of the variable \n",
    "'message'?\n",
    "message = \"hello there!\"\n",
    "\n",
    "Ans: string"
   ]
  },
  {
   "cell_type": "code",
   "execution_count": null,
   "metadata": {},
   "outputs": [],
   "source": [
    "11) What determines the current data-type of a variable?\n",
    "\n",
    "Ans: Data-type of the last value assigned."
   ]
  },
  {
   "cell_type": "code",
   "execution_count": null,
   "metadata": {},
   "outputs": [],
   "source": [
    "12) What is the purpose of the built-in type() function?\n",
    " \n",
    "Ans: To know the current data type of variable."
   ]
  },
  {
   "cell_type": "code",
   "execution_count": null,
   "metadata": {},
   "outputs": [],
   "source": [
    "13) What would be the output following execution of the following code?\n",
    "type(10.2)\n",
    "\n",
    "Ans: Float"
   ]
  },
  {
   "cell_type": "code",
   "execution_count": null,
   "metadata": {},
   "outputs": [],
   "source": [
    "14) Does the Python language support Dynamic Typing, or Static Typing?\n",
    "\n",
    "Ans: Dynamic-typing"
   ]
  },
  {
   "cell_type": "code",
   "execution_count": null,
   "metadata": {},
   "outputs": [],
   "source": [
    "15) Which of the following is an example of a function call?\n",
    "answer = 10\n",
    "print(answer)\n",
    "total *= 10\n",
    "10 + 20\n",
    "\n",
    "Ans: print(answer)"
   ]
  },
  {
   "cell_type": "code",
   "execution_count": null,
   "metadata": {},
   "outputs": [],
   "source": [
    "16) What is the name given to the values that are passed to a function within the parentheses?\n",
    "\n",
    "Ans: parameter"
   ]
  },
  {
   "cell_type": "code",
   "execution_count": null,
   "metadata": {},
   "outputs": [],
   "source": [
    "17) What is the purpose of the built-in input() function?\n",
    "\n",
    "Ans: to take input from the user"
   ]
  },
  {
   "cell_type": "code",
   "execution_count": null,
   "metadata": {},
   "outputs": [],
   "source": [
    "18) What is the data-type of the value returned by the input() function?\n",
    "\n",
    "Ans: String"
   ]
  },
  {
   "cell_type": "code",
   "execution_count": null,
   "metadata": {},
   "outputs": [],
   "source": [
    "19) Use the Python interpreter to input a small Python program that prints your name and \n",
    "address on the screen. Once this works type the program in the answer box below.\n",
    "\n",
    "Ans: \n",
    "name = input(\"Enter your name: \")\n",
    "address = input(\"Enter your address: \")\n",
    "print(name, address)"
   ]
  },
  {
   "cell_type": "code",
   "execution_count": null,
   "metadata": {},
   "outputs": [],
   "source": [
    "20) Within the answer box below write a small Python program, that when run, would print the \n",
    "following message including the double quotes -\n",
    "Hello, is your name \"Bwian\"?\n",
    "\n",
    "Ans: print(\"Hello, is your name \\\"Bwian\\\"?\")"
   ]
  },
  {
   "cell_type": "code",
   "execution_count": null,
   "metadata": {},
   "outputs": [],
   "source": [
    "21) Now write a second small Python program, that when run, would print the following message \n",
    "including the single quotes -\n",
    "Or is your name 'Woger'?\n",
    "\n",
    "Ans: print(\"or is your name 'Woger'?\")"
   ]
  },
  {
   "cell_type": "code",
   "execution_count": null,
   "metadata": {},
   "outputs": [],
   "source": [
    "22) Within the answer box below write a small Python program, that when run, uses escape \n",
    "sequences to print the following text exactly.\n",
    "This is a string containing a backslash (\\),\n",
    " a single quote ('), a double quote (\")\n",
    " and is split across multiple lines\n",
    "\n",
    "Ans: print(\"This is a string containing a backslash (\\),\\n\"\"\\ta single quote ('), a double quote (\\\")\\n\"\"\\tand is split across multiple lines\")"
   ]
  },
  {
   "cell_type": "code",
   "execution_count": null,
   "metadata": {},
   "outputs": [],
   "source": [
    "23) Within the answer box below write a small Python program, that when run, uses triple quotes\n",
    "to print the following text exactly.\n",
    "This is a string containing a backslash (\\),\n",
    " a single quote ('), a double quote (\")\n",
    " and is split across multiple lines\n",
    "     \n",
    "Ans: print('''This is a string containing a backslash (\\),\\n''' '''\\ta single quote ('), a double quote (\")\\n''' '''\\tand is split across multiple lines''')                 \n"
   ]
  },
  {
   "cell_type": "code",
   "execution_count": null,
   "metadata": {},
   "outputs": [],
   "source": [
    "23) Within the answer box below write a small Python program, that when run, uses triple quotes\n",
    "to print the following text exactly.\n",
    "This is a string containing a backslash (\\),\n",
    " a single quote ('), a double quote (\")\n",
    " and is split across multiple lines\n",
    "     \n",
    "Ans: print('''This is a string containing a backslash (\\),\\n''' '''\\ta single quote ('), a double quote (\")\\n''' '''\\tand is split across multiple lines''')                 \n"
   ]
  },
  {
   "cell_type": "code",
   "execution_count": null,
   "metadata": {},
   "outputs": [],
   "source": [
    "25) Within the answer box below write a small Python program that asks the user to enter two \n",
    "values. Store these in variables called 'a' and 'b' respectively.\n",
    "\n",
    "Ans:\n",
    "a = float(input(\"Enter a value: \"))\n",
    "b = float(input(\"Enter another value: \"))    \n"
   ]
  },
  {
   "cell_type": "code",
   "execution_count": null,
   "metadata": {},
   "outputs": [],
   "source": [
    "26) Once the values have been input use three calls to the print() function to show output \n",
    "such as the following (in this example the user entered 10.2 and 18.3) -\n",
    "The value 'a' was 10.2 and the value 'b' was 18.3\n",
    "The sum of 'a' and 'b' is 28.5\n",
    "The product of 'a' and 'b' is 186.66\n",
    "\n",
    "Ans: \n",
    "print(f\"The value 'a' was {a} and the value 'b' was {b}\")\n",
    "print(f\"The sum of 'a' and 'b' is {a+b}\")\n",
    "print(f\"The product of 'a' and 'b' is {a*b}\")"
   ]
  },
  {
   "cell_type": "code",
   "execution_count": null,
   "metadata": {},
   "outputs": [],
   "source": [
    "27) Python includes a built-in function called max(). When this is called with multiple argument \n",
    "values it returns the largest of the given arguments. e.g.\n",
    "max(20, 50, 30) # this would return 50\n",
    "Within the answer box below write a small program that asks the user to input three values. \n",
    "Store these in variables (the names are up to you) then use the max() function to display the \n",
    "largest of the input values.\n",
    "\n",
    "Ans:\n",
    "first = float(input(\"Enter 1st number: \"))\n",
    "second = float(input(\"Enter 2nd number: \"))\n",
    "third = float(input(\"Enter third number: \"))\n",
    "print(max(first, second, third))    "
   ]
  },
  {
   "cell_type": "code",
   "execution_count": null,
   "metadata": {},
   "outputs": [],
   "source": [
    "28) Using the Python interpreter execute your code, then examine the output generated when \n",
    "the input the values are 'hello', 'welcome', and 'bye'\n",
    "Does the program still show the maximum value? If not, what does it show?\n",
    "\n",
    "Ans: It shows welcome."
   ]
  },
  {
   "cell_type": "code",
   "execution_count": null,
   "metadata": {},
   "outputs": [],
   "source": [
    "29) Given the following definition:\n",
    "name = \"Black Knight\"\n",
    "What would each of the following Python statements display?\n",
    "\n",
    "a)print( name[0] ) = 'B'\n",
    "\n",
    "b)print( name[4] ) = 'k'\n",
    "\n",
    "c)print( name[-1] ) = 't'\n",
    "\n",
    "d)print( name[-2] ) = 'h'\n",
    "\n",
    "e)print( name[2:5] ) = 'ack' \n",
    "\n",
    "f)print( name[6:] ) = 'Knight'\n",
    "\n",
    "g)print( name[:5] ) = 'Black'\n",
    "\n",
    "h)print( name[:] ) = 'Black knight'\n"
   ]
  },
  {
   "cell_type": "code",
   "execution_count": null,
   "metadata": {},
   "outputs": [],
   "source": [
    "30) Which of the following creates a variable containing a List?\n",
    "names = \"Terry\"\n",
    "names = 10\n",
    "names = [ \"Mark\", \"Jon\", \"Amanda\", \"Edward\", \"Sally\" ]\n",
    "names = \"Mark\", \"Jon\", \"Amanda\"\n",
    "\n",
    "Ans: names = [ \"Mark\", \"Jon\", \"Amanda\", \"Edward\", \"Sally\" ]"
   ]
  },
  {
   "cell_type": "code",
   "execution_count": null,
   "metadata": {},
   "outputs": [],
   "source": [
    "31) Is the following a valid List, even though it contains values based on different data-types?\n",
    "values = [10.2, \"Jon\", False, \"Edward\", True ]\n",
    "\n",
    "Ans: yes, valid. "
   ]
  },
  {
   "cell_type": "code",
   "execution_count": null,
   "metadata": {},
   "outputs": [],
   "source": [
    "32) If a value is mutable, can it be modified after it has been created?\n",
    "\n",
    "Ans: Yes"
   ]
  },
  {
   "cell_type": "code",
   "execution_count": null,
   "metadata": {},
   "outputs": [],
   "source": [
    "33) What term is used to describe a value that cannot be changed once it has been created?\n",
    "\n",
    "Ans: Immutable"
   ]
  },
  {
   "cell_type": "code",
   "execution_count": null,
   "metadata": {},
   "outputs": [],
   "source": [
    "34) Is a List mutable or immutable?\n",
    "\n",
    "Ans: Mutable"
   ]
  },
  {
   "cell_type": "code",
   "execution_count": null,
   "metadata": {},
   "outputs": [],
   "source": [
    "35) Is a String mutable or immutable?\n",
    "\n",
    "Ans: Immutable"
   ]
  },
  {
   "cell_type": "code",
   "execution_count": null,
   "metadata": {},
   "outputs": [],
   "source": [
    "36) Given the following definition -\n",
    "names = [\"Terry\", \"John\", \"Michael\", \"Eric\", \"Terry\", \"Graham\"]\n",
    "What would each of the following Python statements display?\n",
    "\n",
    "a)print( names[2] ) : 'Michael'\n",
    "    \n",
    "b)print( names[-2] ): 'Terry'\n",
    "    \n",
    "c)print( names[0:3] ): ['Terry', 'John', 'Michael']\n",
    "    \n",
    "d)names = names + \"Brian\" : Can only concatenate list to list. Not str with list. Hence, error.\n",
    "  print( names ) \n",
    "\n",
    "e)names[0:1] = [\"Mark\", \"Jon\"] :  ['Mark', 'Jon', 'John', 'Michael', 'Eric', 'Terry', 'Graham']\n",
    "  print( names )\n"
   ]
  },
  {
   "cell_type": "code",
   "execution_count": null,
   "metadata": {},
   "outputs": [],
   "source": [
    "37) What built-in function within Python can be used to find out how many elements are \n",
    "contained within a string or list?\n",
    "\n",
    "Ans: len()"
   ]
  }
 ],
 "metadata": {
  "language_info": {
   "name": "python"
  }
 },
 "nbformat": 4,
 "nbformat_minor": 2
}
