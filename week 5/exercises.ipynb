{
 "cells": [
  {
   "cell_type": "code",
   "execution_count": null,
   "metadata": {},
   "outputs": [],
   "source": [
    "1)When a Python program is stored within a text file (i.e. a script), what suffix should be used\n",
    "for the filename?\n",
    "\n",
    "Ans: .py"
   ]
  },
  {
   "cell_type": "code",
   "execution_count": null,
   "metadata": {},
   "outputs": [],
   "source": [
    "2) Is it necessary to use a special Integrated Development Environment (IDE) to write Python\n",
    "code in text files?\n",
    "\n",
    "Ans: No"
   ]
  },
  {
   "cell_type": "code",
   "execution_count": null,
   "metadata": {},
   "outputs": [],
   "source": [
    "3) When a script is executed from a file, are the results of evaluating expressions automatically\n",
    "displayed on the screen without the need of a print() function call?\n",
    "\n",
    "Ans: No"
   ]
  },
  {
   "cell_type": "code",
   "execution_count": null,
   "metadata": {},
   "outputs": [],
   "source": [
    "4) What command would need to be typed in an operating system terminal window in order to\n",
    "execute a Python script called PrintNames.py?\n",
    "\n",
    "Ans: python3 PrintNames.py"
   ]
  },
  {
   "cell_type": "code",
   "execution_count": null,
   "metadata": {},
   "outputs": [],
   "source": [
    "5) What command would need to be typed in a terminal in order to pass the values \"John\",\n",
    "\"Eric\", \"Graham\" as command line arguments to the PrintNames.py script?\n",
    "\n",
    "Ans: python3 PrintNames.py John "
   ]
  },
  {
   "cell_type": "code",
   "execution_count": null,
   "metadata": {},
   "outputs": [],
   "source": [
    "6)When a Python script wishes to access command line arguments, what module needs to be\n",
    "imported?\n",
    "\n",
    "Ans: import sys\n"
   ]
  },
  {
   "cell_type": "code",
   "execution_count": null,
   "metadata": {},
   "outputs": [],
   "source": [
    "7) What is the data-type of the sys.argv variable?\n",
    "\n",
    "Ans: list"
   ]
  },
  {
   "cell_type": "code",
   "execution_count": null,
   "metadata": {},
   "outputs": [],
   "source": [
    "8)What is stored within the first element of the sys.argv variable?\n",
    "\n",
    "Ans: Name of the file"
   ]
  },
  {
   "cell_type": "code",
   "execution_count": null,
   "metadata": {},
   "outputs": [],
   "source": [
    "9) Use a text editor to write the script called PrintNames.py. This should display any\n",
    "command line arguments that were passed during execution.\n",
    "Once complete, place your solution in the answer box below.\n",
    "\n",
    "Ans: \n",
    "import sys\n",
    "parameters = sys.argv[1:]\n",
    "print(parameters)"
   ]
  },
  {
   "cell_type": "code",
   "execution_count": null,
   "metadata": {},
   "outputs": [],
   "source": [
    "10) Improve the solution so it uses an if statement to check that at least one name was\n",
    "passed, or otherwise print a message saying “no names provided”. Place your improved\n",
    "solution in the answer box below.\n",
    "\n",
    "Ans:\n",
    "import sys\n",
    "if len(sys.argv) >= 2:\n",
    "    parameters = sys.argv[1:]\n",
    "    print(parameters)\n",
    "else:\n",
    "    print(\"No names provided\")"
   ]
  },
  {
   "cell_type": "code",
   "execution_count": null,
   "metadata": {},
   "outputs": [],
   "source": [
    "11) When using an import statement it is possible to provide an alias that can be used as an\n",
    "alternative name to access module content.\n",
    "Write an import statement that imports the whole of the sys module, and renames it to\n",
    "my_system.\n",
    "\n",
    "Ans:\n",
    "import sys as my_system"
   ]
  },
  {
   "cell_type": "code",
   "execution_count": null,
   "metadata": {},
   "outputs": [],
   "source": [
    "12) Write a from..import statement that imports only the math.floor function, and renames it\n",
    "to lower\n",
    "\n",
    "Ans: from math import floor as lower"
   ]
  },
  {
   "cell_type": "code",
   "execution_count": null,
   "metadata": {},
   "outputs": [],
   "source": [
    "13)What is stored in a symbol-table?\n",
    "\n",
    "Ans: Symbol table stores the address of all identifiers in a program."
   ]
  },
  {
   "cell_type": "code",
   "execution_count": null,
   "metadata": {},
   "outputs": [],
   "source": [
    "14) Why is the following type of import statement generally not recommended?\n",
    "from math import *\n",
    "\n",
    "Ans: Since * imports all functions inside a module, there is a high probability of name conflicts as well as hugh memory usage to import unnecessary functions."
   ]
  },
  {
   "cell_type": "code",
   "execution_count": null,
   "metadata": {},
   "outputs": [],
   "source": [
    "15) When working in interactive-mode what convenient function can be used to list all names\n",
    "defined within a module?\n",
    "\n",
    "Ans: dir()"
   ]
  },
  {
   "cell_type": "code",
   "execution_count": null,
   "metadata": {},
   "outputs": [],
   "source": [
    "16) What is the value stored within the sys.path variable used for?\n",
    "\n",
    "Ans: It gives a list of paths where the interpretor searches for modules."
   ]
  },
  {
   "cell_type": "code",
   "execution_count": null,
   "metadata": {},
   "outputs": [],
   "source": [
    "17)When a program is being executed as a script what value is assigned to the special variable\n",
    "__name__?\n",
    "\n",
    "Ans: __main__"
   ]
  },
  {
   "cell_type": "code",
   "execution_count": null,
   "metadata": {},
   "outputs": [],
   "source": [
    "18) What value is assigned to the __name__ variable when a program has been imported as a\n",
    "module?\n",
    "\n",
    "Ans: filename.py"
   ]
  },
  {
   "cell_type": "code",
   "execution_count": null,
   "metadata": {},
   "outputs": [],
   "source": [
    "19) Why is it useful for a program to be able to detect whether it is running as a script, or\n",
    "whether it has been imported as a module?\n",
    "\n",
    "Ans: To be flexible"
   ]
  },
  {
   "cell_type": "code",
   "execution_count": null,
   "metadata": {},
   "outputs": [],
   "source": []
  }
 ],
 "metadata": {
  "language_info": {
   "name": "python"
  }
 },
 "nbformat": 4,
 "nbformat_minor": 2
}
