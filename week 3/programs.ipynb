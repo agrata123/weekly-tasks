{
 "cells": [
  {
   "cell_type": "code",
   "execution_count": 1,
   "metadata": {},
   "outputs": [
    {
     "name": "stdout",
     "output_type": "stream",
     "text": [
      "Hello, agrata\n"
     ]
    }
   ],
   "source": [
    "#Q1\n",
    "name = input(\"Enter your name: \")\n",
    "if not name:\n",
    "    print(\"Hello, stranger\")\n",
    "else:\n",
    "    print(f\"Hello, {name}\")"
   ]
  },
  {
   "cell_type": "code",
   "execution_count": 2,
   "metadata": {},
   "outputs": [
    {
     "name": "stdout",
     "output_type": "stream",
     "text": [
      "Password Set\n"
     ]
    }
   ],
   "source": [
    "#Q2\n",
    "first_attempt = input(\"Enter password: \")\n",
    "second_attempt = input(\"Re-enter password: \")\n",
    "\n",
    "if first_attempt == second_attempt:\n",
    "    print(\"Password Set\")\n",
    "else:\n",
    "    print(\"Passwords do not match.\")"
   ]
  },
  {
   "cell_type": "code",
   "execution_count": 3,
   "metadata": {},
   "outputs": [
    {
     "name": "stdout",
     "output_type": "stream",
     "text": [
      "Password should be between 8 and 12 characters\n"
     ]
    }
   ],
   "source": [
    "#Q3\n",
    "password = input(\"Enter your password: \")\n",
    "\n",
    "if len(password) >= 8 and len(password) <= 12:\n",
    "    second_pass = input(\"Re-enter password: \")\n",
    "\n",
    "    if password == second_pass:\n",
    "        print(\"Password Set\")\n",
    "    else:\n",
    "        print(\"Passwords do not match.\")\n",
    "        \n",
    "else:\n",
    "    print(\"Password should be between 8 and 12 characters\")\n"
   ]
  },
  {
   "cell_type": "code",
   "execution_count": 4,
   "metadata": {},
   "outputs": [
    {
     "name": "stdout",
     "output_type": "stream",
     "text": [
      "Password Set\n"
     ]
    }
   ],
   "source": [
    "#Q4\n",
    "invalid = ['password', 'letmein', 'sesame', 'hello', 'justinbieber']\n",
    "first_password = input(\"Enter your password: \")\n",
    "\n",
    "if len(first_password) >= 8 and len(first_password) <= 12 and first_password not in invalid:\n",
    "    second_password = input(\"Re-enter password: \")\n",
    "\n",
    "    if first_password == second_password:\n",
    "        print(\"Password Set\")\n",
    "    else:\n",
    "        print(\"Passwords do not match.\")\n",
    "        \n",
    "else:\n",
    "    print(\"Password should be between 8 and 12 characters\")\n",
    "    print(f\"Password should not be {invalid}\")"
   ]
  },
  {
   "cell_type": "code",
   "execution_count": 5,
   "metadata": {},
   "outputs": [
    {
     "name": "stdout",
     "output_type": "stream",
     "text": [
      "error!\n",
      "Password Set\n"
     ]
    }
   ],
   "source": [
    "#Q5\n",
    "invalid = ['password', 'letmein', 'sesame', 'hello', 'justinbieber']\n",
    "while True:\n",
    "    password_1 = (input(\"choose your password:\"))\n",
    "    password_2 = (input(\"enter the same password:\"))\n",
    "    if len(password_1) not in range(8,13) or password_1 in invalid:\n",
    "        password_1 = (input(\"re-enter your password:\"))\n",
    "    else:   \n",
    "        \n",
    "        if password_1 == password_2:\n",
    "            print(\"Password Set\")\n",
    "            break\n",
    "        else:\n",
    "            print(\"error!\")"
   ]
  },
  {
   "cell_type": "code",
   "execution_count": 6,
   "metadata": {},
   "outputs": [
    {
     "name": "stdout",
     "output_type": "stream",
     "text": [
      "0 * 7 = 0\n",
      "1 * 7 = 7\n",
      "2 * 7 = 14\n",
      "3 * 7 = 21\n",
      "4 * 7 = 28\n",
      "5 * 7 = 35\n",
      "6 * 7 = 42\n",
      "7 * 7 = 49\n",
      "8 * 7 = 56\n",
      "9 * 7 = 63\n",
      "10 * 7 = 70\n",
      "11 * 7 = 77\n",
      "12 * 7 = 84\n"
     ]
    }
   ],
   "source": [
    "#Q6\n",
    "number = 7\n",
    "for i in range (0,13):\n",
    "    print(f\"{i} * {number} = {i*number}\")"
   ]
  },
  {
   "cell_type": "code",
   "execution_count": 7,
   "metadata": {},
   "outputs": [
    {
     "name": "stdout",
     "output_type": "stream",
     "text": [
      "0 * 6 = 0\n",
      "1 * 6 = 6\n",
      "2 * 6 = 12\n",
      "3 * 6 = 18\n",
      "4 * 6 = 24\n",
      "5 * 6 = 30\n",
      "6 * 6 = 36\n",
      "7 * 6 = 42\n",
      "8 * 6 = 48\n",
      "9 * 6 = 54\n",
      "10 * 6 = 60\n",
      "11 * 6 = 66\n",
      "12 * 6 = 72\n"
     ]
    }
   ],
   "source": [
    "#Q7\n",
    "number = int(input(\"enter the number:\"))\n",
    "for i in range (0,13):\n",
    "    print(f\"{i} * {number} = {i*number}\")"
   ]
  },
  {
   "cell_type": "code",
   "execution_count": 8,
   "metadata": {},
   "outputs": [
    {
     "name": "stdout",
     "output_type": "stream",
     "text": [
      "0 * 6 = 0\n",
      "1 * 6 = 6\n",
      "2 * 6 = 12\n",
      "3 * 6 = 18\n",
      "4 * 6 = 24\n",
      "5 * 6 = 30\n",
      "6 * 6 = 36\n",
      "7 * 6 = 42\n",
      "8 * 6 = 48\n",
      "9 * 6 = 54\n",
      "10 * 6 = 60\n",
      "11 * 6 = 66\n",
      "12 * 6 = 72\n"
     ]
    }
   ],
   "source": [
    "#Q8\n",
    "number = int(input(\"enter the number:\"))\n",
    "if number < 0:\n",
    " for i in range (12,-1,-1):\n",
    "    print(f\"{i} * {number} = {i*number}\")\n",
    "else:\n",
    "    for i in range (0,13):\n",
    "       print(f\"{i} * {number} = {i*number}\")"
   ]
  }
 ],
 "metadata": {
  "kernelspec": {
   "display_name": "base",
   "language": "python",
   "name": "python3"
  },
  "language_info": {
   "codemirror_mode": {
    "name": "ipython",
    "version": 3
   },
   "file_extension": ".py",
   "mimetype": "text/x-python",
   "name": "python",
   "nbconvert_exporter": "python",
   "pygments_lexer": "ipython3",
   "version": "3.9.13"
  }
 },
 "nbformat": 4,
 "nbformat_minor": 2
}
